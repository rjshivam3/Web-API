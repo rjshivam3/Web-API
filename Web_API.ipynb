{
 "cells": [
  {
   "cell_type": "code",
   "execution_count": null,
   "id": "76ab2592-748e-4f4a-8189-73a19620ce7b",
   "metadata": {},
   "outputs": [],
   "source": [
    "#Q1. What is an API? Give an example, where an API is used in real life.\n",
    "\n",
    "\"\"\"\n",
    "Definition: API stands for Application Programming Interface. It allows different software systems to communicate with each other by defining the methods and data formats they can use.\n",
    "\n",
    "Usage: APIs are commonly used in software development to access web services, databases, and integrate third-party functionalities into applications.\n",
    "\n",
    "Real-life Example: Google Maps API enables developers to incorporate mapping features into their applications without building them from scratch.\n",
    "\"\"\""
   ]
  },
  {
   "cell_type": "code",
   "execution_count": null,
   "id": "79c26849-70ac-4f22-b2d1-250c538d97a5",
   "metadata": {},
   "outputs": [],
   "source": [
    "#Q2. Give advantages and disadvantages of using API.\n",
    "\n",
    "\"\"\"\n",
    "Advantages:\n",
    "\n",
    "Efficiency: APIs streamline development by accessing pre-built functionalities.\n",
    "\n",
    "Flexibility: They enable modular development and easy integration of components.\n",
    "\n",
    "Scalability: APIs facilitate scalability by leveraging external services.\n",
    "\n",
    "Disadvantages:\n",
    "\n",
    "Dependency: Applications relying on external APIs are dependent on their availability and reliability.\n",
    "\n",
    "Security Risks: Integrating third-party APIs introduces potential security vulnerabilities.\n",
    "\n",
    "Compatibility: Changes to APIs may introduce compatibility issues with existing applications.\n",
    "\"\"\"\n"
   ]
  },
  {
   "cell_type": "code",
   "execution_count": null,
   "id": "823aea22-9818-4d1f-9c36-a3b6fbeed566",
   "metadata": {},
   "outputs": [],
   "source": [
    "#Q3. What is a Web API? Differentiate between API and Web API.\n",
    "\n",
    "\"\"\"\n",
    "API: API (Application Programming Interface) is a broader term that encompasses various types of interfaces, including web APIs, library APIs, and operating system APIs.\n",
    "Web API: Web API specifically refers to APIs that are accessed over the internet using HTTP protocols.\n",
    "\"\"\""
   ]
  },
  {
   "cell_type": "code",
   "execution_count": null,
   "id": "ba226c3c-6ad9-40df-b342-7297c7387af0",
   "metadata": {},
   "outputs": [],
   "source": [
    "#Q4. Explain REST and SOAP Architecture. Mention shortcomings of SOAP.\n",
    "\n",
    "\"\"\"\n",
    "REST (Representational State Transfer):\n",
    "\n",
    "REST is an architectural style for designing networked applications. It emphasizes a stateless client-server communication where web services are viewed as resources and can be identified by unique URIs. \n",
    "RESTful services typically use standard HTTP methods (GET, POST, PUT, DELETE) for CRUD operations (Create, Read, Update, Delete) and return data in various formats such as JSON or XML. \n",
    "RESTful APIs are simple, lightweight, and scalable, making them popular for building web services and APIs.\n",
    "\n",
    "SOAP (Simple Object Access Protocol):\n",
    "\n",
    "SOAP is a protocol for exchanging structured information in the implementation of web services. It relies on XML for message format and typically uses HTTP or SMTP for message transmission. \n",
    "SOAP APIs define operations, messages, and the format of messages using a formal contract, often described using Web Services Description Language (WSDL). SOAP offers features such as \n",
    "security, reliability, and transaction support, making it suitable for enterprise-level applications."
   ]
  },
  {
   "cell_type": "code",
   "execution_count": null,
   "id": "8d8112e2-f3dc-48f5-b1f8-10162f4fa46b",
   "metadata": {},
   "outputs": [],
   "source": [
    "#Q5. Differentiate between REST and SOAP.\n",
    "\n",
    "\"\"\"\n",
    "REST: Represents a stateless client-server communication model where resources are identified by unique URIs. \n",
    "It typically uses standard HTTP methods for CRUD operations.\n",
    "SOAP: Utilizes a protocol for exchanging structured information, often relying on XML for message format. \n",
    "It defines operations, messages, and message formats using a formal contract."
   ]
  }
 ],
 "metadata": {
  "kernelspec": {
   "display_name": "Python 3 (ipykernel)",
   "language": "python",
   "name": "python3"
  },
  "language_info": {
   "codemirror_mode": {
    "name": "ipython",
    "version": 3
   },
   "file_extension": ".py",
   "mimetype": "text/x-python",
   "name": "python",
   "nbconvert_exporter": "python",
   "pygments_lexer": "ipython3",
   "version": "3.10.8"
  }
 },
 "nbformat": 4,
 "nbformat_minor": 5
}
